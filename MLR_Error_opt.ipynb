{
  "nbformat": 4,
  "nbformat_minor": 0,
  "metadata": {
    "colab": {
      "name": "MLR Error_opt.ipynb",
      "provenance": []
    },
    "kernelspec": {
      "name": "python3",
      "display_name": "Python 3"
    },
    "language_info": {
      "name": "python"
    }
  },
  "cells": [
    {
      "cell_type": "code",
      "metadata": {
        "id": "MUg8qpwy4Opj"
      },
      "source": [
        "import pandas as pd\n"
      ],
      "execution_count": null,
      "outputs": []
    },
    {
      "cell_type": "code",
      "metadata": {
        "id": "GiEmIWcI5Jnl"
      },
      "source": [
        "df = pd.read_csv(\"/content/Advertising.csv\")"
      ],
      "execution_count": null,
      "outputs": []
    },
    {
      "cell_type": "code",
      "metadata": {
        "colab": {
          "base_uri": "https://localhost:8080/",
          "height": 422
        },
        "id": "XBHpzNbW5L5p",
        "outputId": "61a27cd8-30f5-4fc4-b90c-158afd1895dd"
      },
      "source": [
        "df"
      ],
      "execution_count": null,
      "outputs": [
        {
          "output_type": "execute_result",
          "data": {
            "text/html": [
              "<div>\n",
              "<style scoped>\n",
              "    .dataframe tbody tr th:only-of-type {\n",
              "        vertical-align: middle;\n",
              "    }\n",
              "\n",
              "    .dataframe tbody tr th {\n",
              "        vertical-align: top;\n",
              "    }\n",
              "\n",
              "    .dataframe thead th {\n",
              "        text-align: right;\n",
              "    }\n",
              "</style>\n",
              "<table border=\"1\" class=\"dataframe\">\n",
              "  <thead>\n",
              "    <tr style=\"text-align: right;\">\n",
              "      <th></th>\n",
              "      <th>TV</th>\n",
              "      <th>Radio</th>\n",
              "      <th>Newspaper</th>\n",
              "      <th>Sales</th>\n",
              "    </tr>\n",
              "  </thead>\n",
              "  <tbody>\n",
              "    <tr>\n",
              "      <th>0</th>\n",
              "      <td>230.1</td>\n",
              "      <td>37.8</td>\n",
              "      <td>69.2</td>\n",
              "      <td>22.1</td>\n",
              "    </tr>\n",
              "    <tr>\n",
              "      <th>1</th>\n",
              "      <td>44.5</td>\n",
              "      <td>39.3</td>\n",
              "      <td>45.1</td>\n",
              "      <td>10.4</td>\n",
              "    </tr>\n",
              "    <tr>\n",
              "      <th>2</th>\n",
              "      <td>17.2</td>\n",
              "      <td>45.9</td>\n",
              "      <td>69.3</td>\n",
              "      <td>12.0</td>\n",
              "    </tr>\n",
              "    <tr>\n",
              "      <th>3</th>\n",
              "      <td>151.5</td>\n",
              "      <td>41.3</td>\n",
              "      <td>58.5</td>\n",
              "      <td>16.5</td>\n",
              "    </tr>\n",
              "    <tr>\n",
              "      <th>4</th>\n",
              "      <td>180.8</td>\n",
              "      <td>10.8</td>\n",
              "      <td>58.4</td>\n",
              "      <td>17.9</td>\n",
              "    </tr>\n",
              "    <tr>\n",
              "      <th>...</th>\n",
              "      <td>...</td>\n",
              "      <td>...</td>\n",
              "      <td>...</td>\n",
              "      <td>...</td>\n",
              "    </tr>\n",
              "    <tr>\n",
              "      <th>195</th>\n",
              "      <td>38.2</td>\n",
              "      <td>3.7</td>\n",
              "      <td>13.8</td>\n",
              "      <td>7.6</td>\n",
              "    </tr>\n",
              "    <tr>\n",
              "      <th>196</th>\n",
              "      <td>94.2</td>\n",
              "      <td>4.9</td>\n",
              "      <td>8.1</td>\n",
              "      <td>14.0</td>\n",
              "    </tr>\n",
              "    <tr>\n",
              "      <th>197</th>\n",
              "      <td>177.0</td>\n",
              "      <td>9.3</td>\n",
              "      <td>6.4</td>\n",
              "      <td>14.8</td>\n",
              "    </tr>\n",
              "    <tr>\n",
              "      <th>198</th>\n",
              "      <td>283.6</td>\n",
              "      <td>42.0</td>\n",
              "      <td>66.2</td>\n",
              "      <td>25.5</td>\n",
              "    </tr>\n",
              "    <tr>\n",
              "      <th>199</th>\n",
              "      <td>232.1</td>\n",
              "      <td>8.6</td>\n",
              "      <td>8.7</td>\n",
              "      <td>18.4</td>\n",
              "    </tr>\n",
              "  </tbody>\n",
              "</table>\n",
              "<p>200 rows × 4 columns</p>\n",
              "</div>"
            ],
            "text/plain": [
              "        TV  Radio  Newspaper  Sales\n",
              "0    230.1   37.8       69.2   22.1\n",
              "1     44.5   39.3       45.1   10.4\n",
              "2     17.2   45.9       69.3   12.0\n",
              "3    151.5   41.3       58.5   16.5\n",
              "4    180.8   10.8       58.4   17.9\n",
              "..     ...    ...        ...    ...\n",
              "195   38.2    3.7       13.8    7.6\n",
              "196   94.2    4.9        8.1   14.0\n",
              "197  177.0    9.3        6.4   14.8\n",
              "198  283.6   42.0       66.2   25.5\n",
              "199  232.1    8.6        8.7   18.4\n",
              "\n",
              "[200 rows x 4 columns]"
            ]
          },
          "metadata": {
            "tags": []
          },
          "execution_count": 3
        }
      ]
    },
    {
      "cell_type": "code",
      "metadata": {
        "id": "kICVBzFS5MYA"
      },
      "source": [
        "x = df.iloc[:,0:3].values    # All 3 features\n",
        "y = df.iloc[:,3].values"
      ],
      "execution_count": null,
      "outputs": []
    },
    {
      "cell_type": "code",
      "metadata": {
        "id": "oYSJGnC2-O8p"
      },
      "source": [
        "x = df.iloc[:,0].values.reshape(-1,1) # TV feature alone"
      ],
      "execution_count": null,
      "outputs": []
    },
    {
      "cell_type": "code",
      "metadata": {
        "id": "-U_J0Wdb-7ng"
      },
      "source": [
        "x = df.iloc[:,0:2].values    # TV and Radio features"
      ],
      "execution_count": null,
      "outputs": []
    },
    {
      "cell_type": "code",
      "metadata": {
        "id": "MXywBHcA_-dr",
        "colab": {
          "base_uri": "https://localhost:8080/"
        },
        "outputId": "50e4dce9-7375-42b2-a132-d3f7b7de8b67"
      },
      "source": [
        "x"
      ],
      "execution_count": null,
      "outputs": [
        {
          "output_type": "execute_result",
          "data": {
            "text/plain": [
              "array([[230.1,  37.8],\n",
              "       [ 44.5,  39.3],\n",
              "       [ 17.2,  45.9],\n",
              "       [151.5,  41.3],\n",
              "       [180.8,  10.8],\n",
              "       [  8.7,  48.9],\n",
              "       [ 57.5,  32.8],\n",
              "       [120.2,  19.6],\n",
              "       [  8.6,   2.1],\n",
              "       [199.8,   2.6],\n",
              "       [ 66.1,   5.8],\n",
              "       [214.7,  24. ],\n",
              "       [ 23.8,  35.1],\n",
              "       [ 97.5,   7.6],\n",
              "       [204.1,  32.9],\n",
              "       [195.4,  47.7],\n",
              "       [ 67.8,  36.6],\n",
              "       [281.4,  39.6],\n",
              "       [ 69.2,  20.5],\n",
              "       [147.3,  23.9],\n",
              "       [218.4,  27.7],\n",
              "       [237.4,   5.1],\n",
              "       [ 13.2,  15.9],\n",
              "       [228.3,  16.9],\n",
              "       [ 62.3,  12.6],\n",
              "       [262.9,   3.5],\n",
              "       [142.9,  29.3],\n",
              "       [240.1,  16.7],\n",
              "       [248.8,  27.1],\n",
              "       [ 70.6,  16. ],\n",
              "       [292.9,  28.3],\n",
              "       [112.9,  17.4],\n",
              "       [ 97.2,   1.5],\n",
              "       [265.6,  20. ],\n",
              "       [ 95.7,   1.4],\n",
              "       [290.7,   4.1],\n",
              "       [266.9,  43.8],\n",
              "       [ 74.7,  49.4],\n",
              "       [ 43.1,  26.7],\n",
              "       [228. ,  37.7],\n",
              "       [202.5,  22.3],\n",
              "       [177. ,  33.4],\n",
              "       [293.6,  27.7],\n",
              "       [206.9,   8.4],\n",
              "       [ 25.1,  25.7],\n",
              "       [175.1,  22.5],\n",
              "       [ 89.7,   9.9],\n",
              "       [239.9,  41.5],\n",
              "       [227.2,  15.8],\n",
              "       [ 66.9,  11.7],\n",
              "       [199.8,   3.1],\n",
              "       [100.4,   9.6],\n",
              "       [216.4,  41.7],\n",
              "       [182.6,  46.2],\n",
              "       [262.7,  28.8],\n",
              "       [198.9,  49.4],\n",
              "       [  7.3,  28.1],\n",
              "       [136.2,  19.2],\n",
              "       [210.8,  49.6],\n",
              "       [210.7,  29.5],\n",
              "       [ 53.5,   2. ],\n",
              "       [261.3,  42.7],\n",
              "       [239.3,  15.5],\n",
              "       [102.7,  29.6],\n",
              "       [131.1,  42.8],\n",
              "       [ 69. ,   9.3],\n",
              "       [ 31.5,  24.6],\n",
              "       [139.3,  14.5],\n",
              "       [237.4,  27.5],\n",
              "       [216.8,  43.9],\n",
              "       [199.1,  30.6],\n",
              "       [109.8,  14.3],\n",
              "       [ 26.8,  33. ],\n",
              "       [129.4,   5.7],\n",
              "       [213.4,  24.6],\n",
              "       [ 16.9,  43.7],\n",
              "       [ 27.5,   1.6],\n",
              "       [120.5,  28.5],\n",
              "       [  5.4,  29.9],\n",
              "       [116. ,   7.7],\n",
              "       [ 76.4,  26.7],\n",
              "       [239.8,   4.1],\n",
              "       [ 75.3,  20.3],\n",
              "       [ 68.4,  44.5],\n",
              "       [213.5,  43. ],\n",
              "       [193.2,  18.4],\n",
              "       [ 76.3,  27.5],\n",
              "       [110.7,  40.6],\n",
              "       [ 88.3,  25.5],\n",
              "       [109.8,  47.8],\n",
              "       [134.3,   4.9],\n",
              "       [ 28.6,   1.5],\n",
              "       [217.7,  33.5],\n",
              "       [250.9,  36.5],\n",
              "       [107.4,  14. ],\n",
              "       [163.3,  31.6],\n",
              "       [197.6,   3.5],\n",
              "       [184.9,  21. ],\n",
              "       [289.7,  42.3],\n",
              "       [135.2,  41.7],\n",
              "       [222.4,   4.3],\n",
              "       [296.4,  36.3],\n",
              "       [280.2,  10.1],\n",
              "       [187.9,  17.2],\n",
              "       [238.2,  34.3],\n",
              "       [137.9,  46.4],\n",
              "       [ 25. ,  11. ],\n",
              "       [ 90.4,   0.3],\n",
              "       [ 13.1,   0.4],\n",
              "       [255.4,  26.9],\n",
              "       [225.8,   8.2],\n",
              "       [241.7,  38. ],\n",
              "       [175.7,  15.4],\n",
              "       [209.6,  20.6],\n",
              "       [ 78.2,  46.8],\n",
              "       [ 75.1,  35. ],\n",
              "       [139.2,  14.3],\n",
              "       [ 76.4,   0.8],\n",
              "       [125.7,  36.9],\n",
              "       [ 19.4,  16. ],\n",
              "       [141.3,  26.8],\n",
              "       [ 18.8,  21.7],\n",
              "       [224. ,   2.4],\n",
              "       [123.1,  34.6],\n",
              "       [229.5,  32.3],\n",
              "       [ 87.2,  11.8],\n",
              "       [  7.8,  38.9],\n",
              "       [ 80.2,   0. ],\n",
              "       [220.3,  49. ],\n",
              "       [ 59.6,  12. ],\n",
              "       [  0.7,  39.6],\n",
              "       [265.2,   2.9],\n",
              "       [  8.4,  27.2],\n",
              "       [219.8,  33.5],\n",
              "       [ 36.9,  38.6],\n",
              "       [ 48.3,  47. ],\n",
              "       [ 25.6,  39. ],\n",
              "       [273.7,  28.9],\n",
              "       [ 43. ,  25.9],\n",
              "       [184.9,  43.9],\n",
              "       [ 73.4,  17. ],\n",
              "       [193.7,  35.4],\n",
              "       [220.5,  33.2],\n",
              "       [104.6,   5.7],\n",
              "       [ 96.2,  14.8],\n",
              "       [140.3,   1.9],\n",
              "       [240.1,   7.3],\n",
              "       [243.2,  49. ],\n",
              "       [ 38. ,  40.3],\n",
              "       [ 44.7,  25.8],\n",
              "       [280.7,  13.9],\n",
              "       [121. ,   8.4],\n",
              "       [197.6,  23.3],\n",
              "       [171.3,  39.7],\n",
              "       [187.8,  21.1],\n",
              "       [  4.1,  11.6],\n",
              "       [ 93.9,  43.5],\n",
              "       [149.8,   1.3],\n",
              "       [ 11.7,  36.9],\n",
              "       [131.7,  18.4],\n",
              "       [172.5,  18.1],\n",
              "       [ 85.7,  35.8],\n",
              "       [188.4,  18.1],\n",
              "       [163.5,  36.8],\n",
              "       [117.2,  14.7],\n",
              "       [234.5,   3.4],\n",
              "       [ 17.9,  37.6],\n",
              "       [206.8,   5.2],\n",
              "       [215.4,  23.6],\n",
              "       [284.3,  10.6],\n",
              "       [ 50. ,  11.6],\n",
              "       [164.5,  20.9],\n",
              "       [ 19.6,  20.1],\n",
              "       [168.4,   7.1],\n",
              "       [222.4,   3.4],\n",
              "       [276.9,  48.9],\n",
              "       [248.4,  30.2],\n",
              "       [170.2,   7.8],\n",
              "       [276.7,   2.3],\n",
              "       [165.6,  10. ],\n",
              "       [156.6,   2.6],\n",
              "       [218.5,   5.4],\n",
              "       [ 56.2,   5.7],\n",
              "       [287.6,  43. ],\n",
              "       [253.8,  21.3],\n",
              "       [205. ,  45.1],\n",
              "       [139.5,   2.1],\n",
              "       [191.1,  28.7],\n",
              "       [286. ,  13.9],\n",
              "       [ 18.7,  12.1],\n",
              "       [ 39.5,  41.1],\n",
              "       [ 75.5,  10.8],\n",
              "       [ 17.2,   4.1],\n",
              "       [166.8,  42. ],\n",
              "       [149.7,  35.6],\n",
              "       [ 38.2,   3.7],\n",
              "       [ 94.2,   4.9],\n",
              "       [177. ,   9.3],\n",
              "       [283.6,  42. ],\n",
              "       [232.1,   8.6]])"
            ]
          },
          "metadata": {
            "tags": []
          },
          "execution_count": 27
        }
      ]
    },
    {
      "cell_type": "code",
      "metadata": {
        "colab": {
          "base_uri": "https://localhost:8080/"
        },
        "id": "iaqPHT0Z7fuH",
        "outputId": "3dfeedd0-2f68-47ea-e8d0-aa255ee2441a"
      },
      "source": [
        "x.shape"
      ],
      "execution_count": null,
      "outputs": [
        {
          "output_type": "execute_result",
          "data": {
            "text/plain": [
              "(200, 3)"
            ]
          },
          "metadata": {
            "tags": []
          },
          "execution_count": 7
        }
      ]
    },
    {
      "cell_type": "code",
      "metadata": {
        "id": "lSf3XEjD7U1n"
      },
      "source": [
        "from sklearn.linear_model import LinearRegression"
      ],
      "execution_count": null,
      "outputs": []
    },
    {
      "cell_type": "code",
      "metadata": {
        "id": "QoBpBrpW8cJq"
      },
      "source": [
        "Lin = LinearRegression()"
      ],
      "execution_count": null,
      "outputs": []
    },
    {
      "cell_type": "code",
      "metadata": {
        "colab": {
          "base_uri": "https://localhost:8080/"
        },
        "id": "axqrSysG8eDc",
        "outputId": "ca05cd02-84ac-4b99-a979-8d0f692b2a37"
      },
      "source": [
        "Lin.fit(x,y)"
      ],
      "execution_count": null,
      "outputs": [
        {
          "output_type": "execute_result",
          "data": {
            "text/plain": [
              "LinearRegression(copy_X=True, fit_intercept=True, n_jobs=None, normalize=False)"
            ]
          },
          "metadata": {
            "tags": []
          },
          "execution_count": 23
        }
      ]
    },
    {
      "cell_type": "code",
      "metadata": {
        "id": "v8r0dOub8qYw"
      },
      "source": [
        "pred_y = Lin.predict(x)"
      ],
      "execution_count": null,
      "outputs": []
    },
    {
      "cell_type": "code",
      "metadata": {
        "id": "skE3HgLe83J7"
      },
      "source": [
        "from sklearn import metrics"
      ],
      "execution_count": null,
      "outputs": []
    },
    {
      "cell_type": "code",
      "metadata": {
        "colab": {
          "base_uri": "https://localhost:8080/"
        },
        "id": "IUwgsgc19By2",
        "outputId": "0bda89c7-2b42-4d06-a31b-019b29f9350f"
      },
      "source": [
        "metrics.mean_absolute_error(y, pred_y)    # All 3 features"
      ],
      "execution_count": null,
      "outputs": [
        {
          "output_type": "execute_result",
          "data": {
            "text/plain": [
              "1.2363919943957848"
            ]
          },
          "metadata": {
            "tags": []
          },
          "execution_count": 14
        }
      ]
    },
    {
      "cell_type": "code",
      "metadata": {
        "colab": {
          "base_uri": "https://localhost:8080/"
        },
        "id": "spb9CDCH-esE",
        "outputId": "99d37de7-ea99-4298-f011-4af4cb0c08da"
      },
      "source": [
        "metrics.mean_absolute_error(y, pred_y) # TV feature alone"
      ],
      "execution_count": null,
      "outputs": [
        {
          "output_type": "execute_result",
          "data": {
            "text/plain": [
              "1.8305872641932412"
            ]
          },
          "metadata": {
            "tags": []
          },
          "execution_count": 20
        }
      ]
    },
    {
      "cell_type": "code",
      "metadata": {
        "colab": {
          "base_uri": "https://localhost:8080/"
        },
        "id": "8ktSE1G7_Eh-",
        "outputId": "9a878cbd-d2c6-4854-ee99-19eab53e7d33"
      },
      "source": [
        "metrics.mean_absolute_error(y, pred_y) # TV and Radio"
      ],
      "execution_count": null,
      "outputs": [
        {
          "output_type": "execute_result",
          "data": {
            "text/plain": [
              "1.2367636706717362"
            ]
          },
          "metadata": {
            "tags": []
          },
          "execution_count": 26
        }
      ]
    },
    {
      "cell_type": "code",
      "metadata": {
        "colab": {
          "base_uri": "https://localhost:8080/",
          "height": 175
        },
        "id": "ikULX00D9Gqj",
        "outputId": "b8b62b09-2518-4b2d-836f-c045713586db"
      },
      "source": [
        "df.corr()"
      ],
      "execution_count": null,
      "outputs": [
        {
          "output_type": "execute_result",
          "data": {
            "text/html": [
              "<div>\n",
              "<style scoped>\n",
              "    .dataframe tbody tr th:only-of-type {\n",
              "        vertical-align: middle;\n",
              "    }\n",
              "\n",
              "    .dataframe tbody tr th {\n",
              "        vertical-align: top;\n",
              "    }\n",
              "\n",
              "    .dataframe thead th {\n",
              "        text-align: right;\n",
              "    }\n",
              "</style>\n",
              "<table border=\"1\" class=\"dataframe\">\n",
              "  <thead>\n",
              "    <tr style=\"text-align: right;\">\n",
              "      <th></th>\n",
              "      <th>TV</th>\n",
              "      <th>Radio</th>\n",
              "      <th>Newspaper</th>\n",
              "      <th>Sales</th>\n",
              "    </tr>\n",
              "  </thead>\n",
              "  <tbody>\n",
              "    <tr>\n",
              "      <th>TV</th>\n",
              "      <td>1.000000</td>\n",
              "      <td>0.054809</td>\n",
              "      <td>0.056648</td>\n",
              "      <td>0.901208</td>\n",
              "    </tr>\n",
              "    <tr>\n",
              "      <th>Radio</th>\n",
              "      <td>0.054809</td>\n",
              "      <td>1.000000</td>\n",
              "      <td>0.354104</td>\n",
              "      <td>0.349631</td>\n",
              "    </tr>\n",
              "    <tr>\n",
              "      <th>Newspaper</th>\n",
              "      <td>0.056648</td>\n",
              "      <td>0.354104</td>\n",
              "      <td>1.000000</td>\n",
              "      <td>0.157960</td>\n",
              "    </tr>\n",
              "    <tr>\n",
              "      <th>Sales</th>\n",
              "      <td>0.901208</td>\n",
              "      <td>0.349631</td>\n",
              "      <td>0.157960</td>\n",
              "      <td>1.000000</td>\n",
              "    </tr>\n",
              "  </tbody>\n",
              "</table>\n",
              "</div>"
            ],
            "text/plain": [
              "                 TV     Radio  Newspaper     Sales\n",
              "TV         1.000000  0.054809   0.056648  0.901208\n",
              "Radio      0.054809  1.000000   0.354104  0.349631\n",
              "Newspaper  0.056648  0.354104   1.000000  0.157960\n",
              "Sales      0.901208  0.349631   0.157960  1.000000"
            ]
          },
          "metadata": {
            "tags": []
          },
          "execution_count": 15
        }
      ]
    },
    {
      "cell_type": "code",
      "metadata": {
        "id": "EhO5AmPA9eeW"
      },
      "source": [
        ""
      ],
      "execution_count": null,
      "outputs": []
    }
  ]
}